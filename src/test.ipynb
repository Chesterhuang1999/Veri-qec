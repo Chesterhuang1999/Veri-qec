{
 "cells": [
  {
   "cell_type": "code",
   "execution_count": 10,
   "metadata": {},
   "outputs": [],
   "source": [
    "import dat\n",
    "from dat import *\n",
    "from encoder_z3 import *\n",
    "from z3 import *\n",
    "import matplotlib.pyplot as plt\n",
    "from timebudget import timebudget \n",
    "import cvc5\n"
   ]
  },
  {
   "cell_type": "code",
   "execution_count": 12,
   "metadata": {},
   "outputs": [],
   "source": [
    "@timebudget\n",
    "def sur_cond_checker(distance, encode_time, check_time):\n",
    "    t1 = time.time()\n",
    "    num_qubits = distance**2\n",
    "    max_errors = (distance - 1) // 2\n",
    "    bit_width = int(math.log2(num_qubits)) + 1\n",
    "    max_errors = (distance - 1) // 2 \n",
    "    surface_mat = dat.surface_matrix_gen(distance)\n",
    "    precond = dat.stab_cond_gen(surface_mat, num_qubits, 1) \n",
    "    #precond, cond2, x_inds, z_inds = surface(distance, 1)\n",
    "    err_cond = f\"sum i 1 {num_qubits} (ex_(i)) <= {max_errors} && sum i 1 {num_qubits} (ez_(i)) <= {max_errors}\"\n",
    "    postcond = precond\n",
    "\n",
    "    program = dat.program_gen(surface_mat, num_qubits, 1)\n",
    "\n",
    "    decoder_cond = dat.decode_cond_gen(surface_mat, num_qubits, 1, distance, distance)\n",
    "\n",
    "    cass_expr = simplify(VCgeneration(precond, program, postcond))\n",
    "    err_tree, _, decoder_tree = precond_generator('skip', err_cond, decoder_cond)\n",
    "    variables = {}\n",
    "    constraints = []\n",
    "    err_expr = tree_to_z3(err_tree.children[0], variables, bit_width, constraints, True)\n",
    "    #decoder_variables = {}\n",
    "    decoder_expr = simplify(tree_to_z3(decoder_tree.children[0],variables, bit_width, constraints, True))\n",
    "    with open('decoder_expr.txt', 'w') as f:\n",
    "        f.write(str(decoder_expr))\n",
    "    with open('constraints.txt', 'w') as f:\n",
    "        f.write(str(constraints))\n",
    "    vaux_list, vdata_list = [], []\n",
    "    for name, var in variables.items():\n",
    "        if var.size() == 1:\n",
    "            sym, ind = name.split('_')\n",
    "            if(sym[0] != 'e'):\n",
    "                vdata_list.append(var)\n",
    "        else:\n",
    "            vaux_list.append(var)\n",
    "\n",
    "    var_list = vaux_list + vdata_list\n",
    "    decoding_formula = And(cass_expr, decoder_expr)\n",
    "    decoding_formula = simplify(decoding_formula)\n",
    "    with open('decoding_formula.txt', 'w') as f:\n",
    "        f.write(str(decoding_formula))\n",
    "    replace_adder = And(*constraints)\n",
    "    formula_to_check = ForAll(var_list, Or(Not(replace_adder), And(err_expr, Not(decoding_formula))))\n",
    "    solver = z3.SolverFor(\"BV\")\n",
    "    solver.add(formula_to_check)\n",
    "    t2 = time.time()\n",
    "    encode_time.append(t2 - t1)\n",
    "    print(\"Encoding Time: \", t2 - t1)\n",
    "    \n",
    "    formula_smt2 = solver.to_smt2()\n",
    "    lines = formula_smt2.splitlines()\n",
    "    formula_smt2 = f\"(set-logic BV)\\n\" + \"\\n\".join(lines[1:])\n",
    "    s2 = cvc5.Solver()\n",
    "    s2.setOption('produce-models', 'true')\n",
    "    #s2.setOption('bv-to-bool', 'true')\n",
    "    cvc5_parser = cvc5.InputParser(s2)\n",
    "\n",
    "    cvc5_parser.setStringInput(cvc5.InputLanguage.SMT_LIB_2_6, formula_smt2, \"MyInput\")\n",
    "\n",
    "    sm = cvc5_parser.getSymbolManager()\n",
    "    while True:\n",
    "        cmd = cvc5_parser.nextCommand()\n",
    "        if cmd.isNull():\n",
    "            break\n",
    "        #print(f\"Executing command {cmd}:\")\n",
    "            # invoke the command on the solver and the symbol manager, print the result\n",
    "        cmd.invoke(s2, sm)\n",
    "    \n",
    "    r = s2.checkSat()\n",
    "    print(r)\n",
    "    t3 = time.time()\n",
    "    check_time.append(t3 - t2)"
   ]
  },
  {
   "cell_type": "code",
   "execution_count": 13,
   "metadata": {},
   "outputs": [
    {
     "name": "stdout",
     "output_type": "stream",
     "text": [
      "Encoding Time:  7.120438098907471\n",
      "unsat\n",
      "sur_cond_checker took 8.809sec\n",
      "[7.120438098907471] [1.6332018375396729]\n"
     ]
    }
   ],
   "source": [
    "    \n",
    "encode_time = []\n",
    "\n",
    "check_time = []\n",
    "sur_cond_checker(5, encode_time, check_time)\n",
    "print(encode_time, check_time)"
   ]
  }
 ],
 "metadata": {
  "kernelspec": {
   "display_name": "base",
   "language": "python",
   "name": "python3"
  },
  "language_info": {
   "codemirror_mode": {
    "name": "ipython",
    "version": 3
   },
   "file_extension": ".py",
   "mimetype": "text/x-python",
   "name": "python",
   "nbconvert_exporter": "python",
   "pygments_lexer": "ipython3",
   "version": "3.9.18"
  }
 },
 "nbformat": 4,
 "nbformat_minor": 2
}
